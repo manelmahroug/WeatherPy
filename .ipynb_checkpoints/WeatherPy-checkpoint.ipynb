{
 "cells": [
  {
   "cell_type": "code",
   "execution_count": null,
   "metadata": {
    "collapsed": true
   },
   "outputs": [],
   "source": [
    "import requests as req\n",
    "import json\n",
    "from citipy import citipy\n",
    "import numpy as np\n",
    "import matplotlib.pyplot as plt\n",
    "import pandas as pd\n",
    "import seaborn as sns\n",
    "import time\n",
    "import csv"
   ]
  },
  {
   "cell_type": "code",
   "execution_count": null,
   "metadata": {},
   "outputs": [],
   "source": [
    "weather_df = pd.DataFrame()\n",
    "weather_df['latitude'] = [np.random.uniform(-90,90) for x in range(1500)]\n",
    "weather_df['longitude'] = [np.random.uniform(-180, 180) for x in range(1500)]\n",
    "\n",
    "weather_df.head()"
   ]
  },
  {
   "cell_type": "code",
   "execution_count": null,
   "metadata": {},
   "outputs": [],
   "source": [
    "#Create columns for city, country,temperature,humidity,cloudiness,windspeed\n",
    "\n",
    "weather_df['City'] = \"\"\n",
    "weather_df['Country'] = \"\"\n",
    "weather_df['Temperature'] = \"\"\n",
    "weather_df['Humidity'] = \"\"\n",
    "weather_df['Cloudiness'] = \"\"\n",
    "weather_df['Wind Speed'] = \"\"\n",
    " \n",
    "#Use citipy library to get the city and country name\n",
    "\n",
    "for index, row in weather_df.iterrows():\n",
    "    near_city = citipy.nearest_city(row['latitude'], row['longitude']).city_name\n",
    "    near_country = citipy.nearest_city(row['latitude'], row['longitude']).country_code\n",
    "    weather_df.set_value(index,\"city\", near_city)\n",
    "    weather_df.set_value(index,\"country\", near_country)\n",
    "    \n",
    "weather_df.head()"
   ]
  },
  {
   "cell_type": "code",
   "execution_count": null,
   "metadata": {},
   "outputs": [],
   "source": [
    "#remove duplicate cities and countries\n",
    "weather_df = weather_df.drop_duplicates(['city','country'],keep = \"first\")\n",
    "weather_df = weather_df.dropna()\n",
    "len(weather_df['city'].value_counts())"
   ]
  },
  {
   "cell_type": "code",
   "execution_count": null,
   "metadata": {},
   "outputs": [],
   "source": [
    "#API data\n",
    "\n",
    "api_key = \"9e046c1f8098cee75dad264a4c38cc30\"\n",
    "url = \"http://api.openweathermap.org/data/2.5/weather?\"\n",
    "units = \"imperial\"\n",
    "\n",
    "\n",
    "#query_url = url + city_name + ',' + country_code + '&units=' + units + '&APPID=' + api_key\n",
    "#api.openweathermap.org/data/2.5/weather?q={city name},{country code}&units=imperial"
   ]
  },
  {
   "cell_type": "code",
   "execution_count": null,
   "metadata": {},
   "outputs": [],
   "source": [
    "count = 0\n",
    "\n",
    "for index, row in weather_df.iterrows():\n",
    "    city_name = row['city']\n",
    "    country_code = row['country']\n",
    "    url = url + city_name + ',' + country_code + '&units=' + units + '&appid=' + api_key\n",
    "   \n",
    "    try: \n",
    "        weather_response = req.get(url)\n",
    "        weather_json = weather_response.json()\n",
    "        latitude = weather_json[\"coord\"][\"lat\"]\n",
    "        longitude = weather_json[\"coord\"][\"lon\"]\n",
    "        temperature = weather_json[\"main\"][\"temp\"]\n",
    "        humidity = weather_json[\"main\"][\"humidity\"]\n",
    "        cloud = weather_json[\"clouds\"][\"all\"]\n",
    "        wind = weather_json[\"wind\"][\"speed\"]\n",
    "        \n",
    "        weather_df.set_value(index,\"Temperature\", temperature)\n",
    "        weather_df.set_value(index,\"Humidity\",humidity)\n",
    "        weather_df.set_value(index,\"Wind Speed\", wind)\n",
    "        weather_df.set_value(index,\"Cloudiness\",cloud)\n",
    "        weather_df.set_value(index,\"Latitude\", latitude)\n",
    "        weather_df.set_value(index,\"Longitude\",longitude)\n",
    "        print(\"Obtained data for %s, %s\" % (city_name, country_code))\n",
    "    except:\n",
    "        print(\"No data for %s, %s\" % (city_name,country_code))\n",
    "    count += 1\n",
    "    if count % 59 ==0:\n",
    "        time.sleep(60)\n",
    "    "
   ]
  },
  {
   "cell_type": "code",
   "execution_count": null,
   "metadata": {
    "collapsed": true
   },
   "outputs": [],
   "source": [
    "weather_df.head()"
   ]
  },
  {
   "cell_type": "code",
   "execution_count": null,
   "metadata": {
    "collapsed": true
   },
   "outputs": [],
   "source": [
    "#check total sample size\n",
    "len(weather_df)"
   ]
  },
  {
   "cell_type": "code",
   "execution_count": null,
   "metadata": {
    "collapsed": true
   },
   "outputs": [],
   "source": [
    "# Save the DataFrame as a csv\n",
    "weather_df.to_csv(\"weatherpy_data.csv\", encoding=\"utf-8\", index=False)"
   ]
  },
  {
   "cell_type": "code",
   "execution_count": null,
   "metadata": {
    "collapsed": true
   },
   "outputs": [],
   "source": [
    "#Converting values to numeric values\n",
    "weather_df['Latitude'] = pd.to_numeric(location_data['Latitude'], errors = 'coerce')\n",
    "weather_df['Temperature'] = pd.to_numeric(location_data['Temperature'], errors = 'coerce')\n",
    "weather_df['Humidity'] = pd.to_numeric(location_data['Humidity'], errors = 'coerce')\n",
    "weather_df['Wind Speed'] = pd.to_numeric(location_data['Wind Speed'], errors = 'coerce')\n",
    "weather_df['Cloudiness'] = pd.to_numeric(location_data['Cloudiness'], errors = 'coerce')"
   ]
  },
  {
   "cell_type": "markdown",
   "metadata": {},
   "source": [
    "# Scatter Plot- Temperature vs. Latitude"
   ]
  },
  {
   "cell_type": "code",
   "execution_count": null,
   "metadata": {
    "collapsed": true
   },
   "outputs": [],
   "source": [
    "x= weather_df[\"Latitude\"]\n",
    "y= weather_df[\"Temp\"]\n",
    "plt.scatter (x,y, edgecolor = 'black')\n",
    "plt.title('Temperature (F) vs. Latitude')\n",
    "plt.ylabel(\"Temperature (F)\")\n",
    "plt.xlabel('Latitude')\n",
    "plt.show()"
   ]
  },
  {
   "cell_type": "markdown",
   "metadata": {},
   "source": [
    "# Scatter Plot- Humidity(%) vs. Latitude"
   ]
  },
  {
   "cell_type": "code",
   "execution_count": null,
   "metadata": {
    "collapsed": true
   },
   "outputs": [],
   "source": [
    "x= location_data[\"Latitude\"]\n",
    "y= location_data[\"Humidity\"]\n",
    "plt.scatter (x,y, edgecolor = 'black')\n",
    "plt.title('Humidity vs. Latitude')\n",
    "plt.ylabel(\"Humidity(%)\")\n",
    "plt.xlabel('Latitude')\n",
    "plt.show()"
   ]
  },
  {
   "cell_type": "markdown",
   "metadata": {},
   "source": [
    "# "
   ]
  }
 ],
 "metadata": {
  "kernelspec": {
   "display_name": "Python [conda env:anaconda3]",
   "language": "python",
   "name": "conda-env-anaconda3-py"
  },
  "language_info": {
   "codemirror_mode": {
    "name": "ipython",
    "version": 3
   },
   "file_extension": ".py",
   "mimetype": "text/x-python",
   "name": "python",
   "nbconvert_exporter": "python",
   "pygments_lexer": "ipython3",
   "version": "3.6.3"
  }
 },
 "nbformat": 4,
 "nbformat_minor": 2
}
