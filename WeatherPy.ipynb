{
 "cells": [
  {
   "cell_type": "code",
   "execution_count": 60,
   "metadata": {
    "collapsed": true
   },
   "outputs": [],
   "source": [
    "import requests as req\n",
    "import json\n",
    "from citipy import citipy\n",
    "import numpy as np\n",
    "import matplotlib.pyplot as plt\n",
    "import pandas as pd\n",
    "import time\n",
    "import csv"
   ]
  },
  {
   "cell_type": "code",
   "execution_count": 65,
   "metadata": {},
   "outputs": [
    {
     "data": {
      "text/html": [
       "<div>\n",
       "<style>\n",
       "    .dataframe thead tr:only-child th {\n",
       "        text-align: right;\n",
       "    }\n",
       "\n",
       "    .dataframe thead th {\n",
       "        text-align: left;\n",
       "    }\n",
       "\n",
       "    .dataframe tbody tr th {\n",
       "        vertical-align: top;\n",
       "    }\n",
       "</style>\n",
       "<table border=\"1\" class=\"dataframe\">\n",
       "  <thead>\n",
       "    <tr style=\"text-align: right;\">\n",
       "      <th></th>\n",
       "      <th>Latitude</th>\n",
       "      <th>Longitude</th>\n",
       "    </tr>\n",
       "  </thead>\n",
       "  <tbody>\n",
       "    <tr>\n",
       "      <th>0</th>\n",
       "      <td>81.751834</td>\n",
       "      <td>179.917648</td>\n",
       "    </tr>\n",
       "    <tr>\n",
       "      <th>1</th>\n",
       "      <td>-83.062443</td>\n",
       "      <td>44.590546</td>\n",
       "    </tr>\n",
       "    <tr>\n",
       "      <th>2</th>\n",
       "      <td>-27.819921</td>\n",
       "      <td>-36.905100</td>\n",
       "    </tr>\n",
       "    <tr>\n",
       "      <th>3</th>\n",
       "      <td>67.580465</td>\n",
       "      <td>84.566527</td>\n",
       "    </tr>\n",
       "    <tr>\n",
       "      <th>4</th>\n",
       "      <td>74.227299</td>\n",
       "      <td>130.654586</td>\n",
       "    </tr>\n",
       "  </tbody>\n",
       "</table>\n",
       "</div>"
      ],
      "text/plain": [
       "    Latitude   Longitude\n",
       "0  81.751834  179.917648\n",
       "1 -83.062443   44.590546\n",
       "2 -27.819921  -36.905100\n",
       "3  67.580465   84.566527\n",
       "4  74.227299  130.654586"
      ]
     },
     "execution_count": 65,
     "metadata": {},
     "output_type": "execute_result"
    }
   ],
   "source": [
    "weather_df = pd.DataFrame()\n",
    "weather_df['Latitude'] = [np.random.uniform(-90,90) for x in range(1500)]\n",
    "weather_df['Longitude'] = [np.random.uniform(-180, 180) for x in range(1500)]\n",
    "\n",
    "weather_df.head()"
   ]
  },
  {
   "cell_type": "code",
   "execution_count": 67,
   "metadata": {},
   "outputs": [
    {
     "data": {
      "text/html": [
       "<div>\n",
       "<style>\n",
       "    .dataframe thead tr:only-child th {\n",
       "        text-align: right;\n",
       "    }\n",
       "\n",
       "    .dataframe thead th {\n",
       "        text-align: left;\n",
       "    }\n",
       "\n",
       "    .dataframe tbody tr th {\n",
       "        vertical-align: top;\n",
       "    }\n",
       "</style>\n",
       "<table border=\"1\" class=\"dataframe\">\n",
       "  <thead>\n",
       "    <tr style=\"text-align: right;\">\n",
       "      <th></th>\n",
       "      <th>Latitude</th>\n",
       "      <th>Longitude</th>\n",
       "      <th>City</th>\n",
       "      <th>Country</th>\n",
       "      <th>Temperature</th>\n",
       "      <th>Humidity</th>\n",
       "      <th>Cloudiness</th>\n",
       "      <th>Wind Speed</th>\n",
       "    </tr>\n",
       "  </thead>\n",
       "  <tbody>\n",
       "    <tr>\n",
       "      <th>0</th>\n",
       "      <td>81.751834</td>\n",
       "      <td>179.917648</td>\n",
       "      <td>leningradskiy</td>\n",
       "      <td>ru</td>\n",
       "      <td></td>\n",
       "      <td></td>\n",
       "      <td></td>\n",
       "      <td></td>\n",
       "    </tr>\n",
       "    <tr>\n",
       "      <th>1</th>\n",
       "      <td>-83.062443</td>\n",
       "      <td>44.590546</td>\n",
       "      <td>port alfred</td>\n",
       "      <td>za</td>\n",
       "      <td></td>\n",
       "      <td></td>\n",
       "      <td></td>\n",
       "      <td></td>\n",
       "    </tr>\n",
       "    <tr>\n",
       "      <th>2</th>\n",
       "      <td>-27.819921</td>\n",
       "      <td>-36.905100</td>\n",
       "      <td>arraial do cabo</td>\n",
       "      <td>br</td>\n",
       "      <td></td>\n",
       "      <td></td>\n",
       "      <td></td>\n",
       "      <td></td>\n",
       "    </tr>\n",
       "    <tr>\n",
       "      <th>3</th>\n",
       "      <td>67.580465</td>\n",
       "      <td>84.566527</td>\n",
       "      <td>igarka</td>\n",
       "      <td>ru</td>\n",
       "      <td></td>\n",
       "      <td></td>\n",
       "      <td></td>\n",
       "      <td></td>\n",
       "    </tr>\n",
       "    <tr>\n",
       "      <th>4</th>\n",
       "      <td>74.227299</td>\n",
       "      <td>130.654586</td>\n",
       "      <td>tiksi</td>\n",
       "      <td>ru</td>\n",
       "      <td></td>\n",
       "      <td></td>\n",
       "      <td></td>\n",
       "      <td></td>\n",
       "    </tr>\n",
       "  </tbody>\n",
       "</table>\n",
       "</div>"
      ],
      "text/plain": [
       "    Latitude   Longitude             City Country Temperature Humidity  \\\n",
       "0  81.751834  179.917648    leningradskiy      ru                        \n",
       "1 -83.062443   44.590546      port alfred      za                        \n",
       "2 -27.819921  -36.905100  arraial do cabo      br                        \n",
       "3  67.580465   84.566527           igarka      ru                        \n",
       "4  74.227299  130.654586            tiksi      ru                        \n",
       "\n",
       "  Cloudiness Wind Speed  \n",
       "0                        \n",
       "1                        \n",
       "2                        \n",
       "3                        \n",
       "4                        "
      ]
     },
     "execution_count": 67,
     "metadata": {},
     "output_type": "execute_result"
    }
   ],
   "source": [
    "#Create columns for city, country,temperature,humidity,cloudiness,wind speed\n",
    "\n",
    "weather_df['City'] = \"\"\n",
    "weather_df['Country'] = \"\"\n",
    "weather_df['Temperature'] = \"\"\n",
    "weather_df['Humidity'] = \"\"\n",
    "weather_df['Cloudiness'] = \"\"\n",
    "weather_df['Wind Speed'] = \"\"\n",
    " \n",
    "#Use citipy library to get the closest city and country name to the random coordinate\n",
    "\n",
    "for index, row in weather_df.iterrows():\n",
    "    near_city = citipy.nearest_city(row['Latitude'], row['Longitude']).city_name\n",
    "    near_country = citipy.nearest_city(row['Latitude'], row['Longitude']).country_code\n",
    "    \n",
    "    weather_df.set_value(index,\"City\", near_city)\n",
    "    weather_df.set_value(index,\"Country\", near_country)\n",
    "    \n",
    "    \n",
    "weather_df.head()"
   ]
  },
  {
   "cell_type": "code",
   "execution_count": 68,
   "metadata": {},
   "outputs": [
    {
     "data": {
      "text/plain": [
       "604"
      ]
     },
     "execution_count": 68,
     "metadata": {},
     "output_type": "execute_result"
    }
   ],
   "source": [
    "#remove duplicate cities and countries\n",
    "weather_df = weather_df.drop_duplicates(['City','Country'],keep = \"first\")\n",
    "weather_df = weather_df.dropna()\n",
    "len(weather_df['City'].value_counts())"
   ]
  },
  {
   "cell_type": "code",
   "execution_count": null,
   "metadata": {},
   "outputs": [],
   "source": [
    "#API data\n",
    "\n",
    "api_key = \"9e046c1f8098cee75dad264a4c38cc30\"\n",
    "url = \"http://api.openweathermap.org/data/2.5/weather?\"\n",
    "units = \"imperial\"\n",
    "\n",
    "\n",
    "#query_url = url + city_name + ',' + country_code + '&units=' + units + '&APPID=' + api_key\n",
    "#api.openweathermap.org/data/2.5/weather?q={city name},{country code}&units=imperial"
   ]
  },
  {
   "cell_type": "code",
   "execution_count": null,
   "metadata": {},
   "outputs": [],
   "source": [
    "count = 0\n",
    "\n",
    "for index, row in weather_df.iterrows():\n",
    "    city_name = row['City']\n",
    "    country_code = row['Country']\n",
    "    url = url + city_name + ',' + country_code + '&units=' + units + '&appid=' + api_key\n",
    "   \n",
    "    try: \n",
    "        weather_response = req.get(url)\n",
    "        weather_json = weather_response.json()\n",
    "        latitude = weather_json[\"coord\"][\"lat\"]\n",
    "        longitude = weather_json[\"coord\"][\"lon\"]\n",
    "        temperature = weather_json[\"main\"][\"temp\"]\n",
    "        humidity = weather_json[\"main\"][\"humidity\"]\n",
    "        cloud = weather_json[\"clouds\"][\"all\"]\n",
    "        wind = weather_json[\"wind\"][\"speed\"]\n",
    "        \n",
    "        weather_df.set_value(index,\"Temperature\", temperature)\n",
    "        weather_df.set_value(index,\"Humidity\",humidity)\n",
    "        weather_df.set_value(index,\"Wind Speed\", wind)\n",
    "        weather_df.set_value(index,\"Cloudiness\",cloud)\n",
    "        weather_df.set_value(index,\"Latitude\", latitude)\n",
    "        weather_df.set_value(index,\"Longitude\",longitude)\n",
    "        print(\"Obtained data for %s, %s\" % (city_name, country_code))\n",
    "    except:\n",
    "        print(\"No data for %s, %s\" % (city_name,country_code))\n",
    "    count += 1\n",
    "    if count % 59 == 0:\n",
    "        time.sleep(60)\n",
    "    "
   ]
  },
  {
   "cell_type": "code",
   "execution_count": null,
   "metadata": {
    "collapsed": true
   },
   "outputs": [],
   "source": [
    "weather_df.head()"
   ]
  },
  {
   "cell_type": "code",
   "execution_count": null,
   "metadata": {
    "collapsed": true
   },
   "outputs": [],
   "source": [
    "#check total sample size\n",
    "len(weather_df)"
   ]
  },
  {
   "cell_type": "code",
   "execution_count": null,
   "metadata": {
    "collapsed": true
   },
   "outputs": [],
   "source": [
    "# Save the DataFrame as a csv\n",
    "weather_df.to_csv(\"weatherpy_data.csv\", encoding=\"utf-8\", index=False)"
   ]
  },
  {
   "cell_type": "code",
   "execution_count": null,
   "metadata": {
    "collapsed": true
   },
   "outputs": [],
   "source": [
    "#Converting values to numeric values\n",
    "weather_df['Latitude'] = pd.to_numeric(location_data['Latitude'], errors = 'coerce')\n",
    "weather_df['Temperature'] = pd.to_numeric(location_data['Temperature'], errors = 'coerce')\n",
    "weather_df['Humidity'] = pd.to_numeric(location_data['Humidity'], errors = 'coerce')\n",
    "weather_df['Wind Speed'] = pd.to_numeric(location_data['Wind Speed'], errors = 'coerce')\n",
    "weather_df['Cloudiness'] = pd.to_numeric(location_data['Cloudiness'], errors = 'coerce')"
   ]
  },
  {
   "cell_type": "markdown",
   "metadata": {},
   "source": [
    "# Scatter Plot- Temperature vs. Latitude"
   ]
  },
  {
   "cell_type": "code",
   "execution_count": null,
   "metadata": {
    "collapsed": true
   },
   "outputs": [],
   "source": [
    "x= weather_df[\"Latitude\"]\n",
    "y= weather_df[\"Temperature\"]\n",
    "plt.scatter (x,y, edgecolor = 'black')\n",
    "plt.title('Temperature (F) vs. Latitude')\n",
    "plt.ylabel(\"Temperature (F)\")\n",
    "plt.xlabel('Latitude')\n",
    "plt.show()"
   ]
  },
  {
   "cell_type": "markdown",
   "metadata": {},
   "source": [
    "# Scatter Plot- Humidity(%) vs. Latitude"
   ]
  },
  {
   "cell_type": "code",
   "execution_count": null,
   "metadata": {
    "collapsed": true
   },
   "outputs": [],
   "source": [
    "x= weather_df[\"Latitude\"]\n",
    "y= weather_df[\"Humidity\"]\n",
    "plt.scatter (x,y, edgecolor = 'black')\n",
    "plt.title('Humidity vs. Latitude')\n",
    "plt.ylabel(\"Humidity(%)\")\n",
    "plt.xlabel('Latitude')\n",
    "plt.show()"
   ]
  },
  {
   "cell_type": "markdown",
   "metadata": {},
   "source": [
    "# Scatter Plot- Cloudiness vs. Latitude"
   ]
  },
  {
   "cell_type": "code",
   "execution_count": null,
   "metadata": {
    "collapsed": true
   },
   "outputs": [],
   "source": [
    "x= weather_df[\"Latitude\"]\n",
    "y= weather_df[\"Cloudiness\"]\n",
    "plt.scatter (x,y,edgecolor = 'black')\n",
    "plt.title('Cloudiness (%) vs. Latitude')\n",
    "plt.ylabel(\"Cloudiness (%)\")\n",
    "plt.xlabel('Latitude')\n",
    "plt.show()\n"
   ]
  },
  {
   "cell_type": "markdown",
   "metadata": {},
   "source": [
    "# Wind Speed (mph) vs. Latitude"
   ]
  },
  {
   "cell_type": "code",
   "execution_count": null,
   "metadata": {},
   "outputs": [],
   "source": [
    "x= weather_df[\"Latitude\"]\n",
    "y= weather_df[\"Wind Speed\"]\n",
    "plt.scatter (x,y,edgecolor = 'black')\n",
    "plt.title('Wind Speed (mph) (%) vs. Latitude')\n",
    "plt.ylabel(\"Wind Speed (mph)\")\n",
    "plt.xlabel('Latitude')\n",
    "plt.show()\n"
   ]
  }
 ],
 "metadata": {
  "kernelspec": {
   "display_name": "Python [conda env:anaconda3]",
   "language": "python",
   "name": "conda-env-anaconda3-py"
  },
  "language_info": {
   "codemirror_mode": {
    "name": "ipython",
    "version": 3
   },
   "file_extension": ".py",
   "mimetype": "text/x-python",
   "name": "python",
   "nbconvert_exporter": "python",
   "pygments_lexer": "ipython3",
   "version": "3.6.3"
  }
 },
 "nbformat": 4,
 "nbformat_minor": 2
}
